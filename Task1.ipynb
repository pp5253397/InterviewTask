{
 "cells": [
  {
   "cell_type": "code",
   "execution_count": 1,
   "id": "c7d85db2",
   "metadata": {},
   "outputs": [],
   "source": [
    "import pandas as pd"
   ]
  },
  {
   "cell_type": "code",
   "execution_count": 2,
   "id": "769ccd0d",
   "metadata": {},
   "outputs": [],
   "source": [
    "#reading csv file\n",
    "data = pd.read_csv('taskData.csv')"
   ]
  },
  {
   "cell_type": "code",
   "execution_count": 3,
   "id": "da7919cf",
   "metadata": {},
   "outputs": [],
   "source": [
    "#calculating mean, median, standard deviation\n",
    "price_mean = data['price'].mean()\n",
    "price_median = data['price'].median()\n",
    "price_std = data['price'].std()"
   ]
  },
  {
   "cell_type": "code",
   "execution_count": 4,
   "id": "d71d77d3",
   "metadata": {},
   "outputs": [
    {
     "name": "stdout",
     "output_type": "stream",
     "text": [
      "Average Price: 151.0\n",
      "Median Price: 150.0\n",
      "Price Standard Deviation: 43.18564576337837\n"
     ]
    }
   ],
   "source": [
    "print(\"Average Price:\", price_mean)\n",
    "print(\"Median Price:\", price_median)\n",
    "print(\"Price Standard Deviation:\", price_std)"
   ]
  },
  {
   "cell_type": "code",
   "execution_count": 5,
   "id": "cc257b52",
   "metadata": {},
   "outputs": [],
   "source": [
    "#Removing outliers\n",
    "outlier_threshold = price_mean + 3 * price_std\n",
    "cleaned_data = data[data['price'] <= outlier_threshold]"
   ]
  },
  {
   "cell_type": "code",
   "execution_count": 6,
   "id": "2588bf8f",
   "metadata": {},
   "outputs": [],
   "source": [
    "# saving new csv with new cleaned data\n",
    "cleaned_data.to_csv('cleaned_test_data.csv', index=False)"
   ]
  },
  {
   "cell_type": "code",
   "execution_count": null,
   "id": "db34e98b",
   "metadata": {},
   "outputs": [],
   "source": []
  }
 ],
 "metadata": {
  "kernelspec": {
   "display_name": "Python 3 (ipykernel)",
   "language": "python",
   "name": "python3"
  },
  "language_info": {
   "codemirror_mode": {
    "name": "ipython",
    "version": 3
   },
   "file_extension": ".py",
   "mimetype": "text/x-python",
   "name": "python",
   "nbconvert_exporter": "python",
   "pygments_lexer": "ipython3",
   "version": "3.11.5"
  }
 },
 "nbformat": 4,
 "nbformat_minor": 5
}
